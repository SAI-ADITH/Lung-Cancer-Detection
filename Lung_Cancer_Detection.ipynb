{
 "cells": [
  {
   "cell_type": "code",
   "execution_count": 24,
   "id": "cad0806a",
   "metadata": {},
   "outputs": [],
   "source": [
    "import numpy as np\n",
    "import pandas as pd\n",
    "import matplotlib.pyplot as plt\n",
    "from PIL import Image\n",
    "from glob import glob\n",
    "\n",
    "from sklearn.model_selection import train_test_split\n",
    "from sklearn import metrics\n",
    "\n",
    "import cv2\n",
    "import gc\n",
    "import os\n",
    "\n",
    "import tensorflow as tf\n",
    "from tensorflow import keras\n",
    "from keras import layers\n",
    "\n",
    "import warnings\n",
    "warnings.filterwarnings('ignore')\n"
   ]
  },
  {
   "cell_type": "code",
   "execution_count": 25,
   "id": "e678ce36",
   "metadata": {
    "scrolled": true
   },
   "outputs": [
    {
     "name": "stdout",
     "output_type": "stream",
     "text": [
      "The data set has been extracted.\n"
     ]
    }
   ],
   "source": [
    "from zipfile import ZipFile\n",
    "\n",
    "data_path = 'archive.zip'\n",
    "\n",
    "with ZipFile(data_path,'r') as zip:\n",
    "    zip.extractall()\n",
    "    print('The data set has been extracted.')"
   ]
  },
  {
   "cell_type": "code",
   "execution_count": 26,
   "id": "bc5c6434",
   "metadata": {},
   "outputs": [
    {
     "data": {
      "text/plain": [
       "['lung_aca', 'lung_n', 'lung_scc']"
      ]
     },
     "execution_count": 26,
     "metadata": {},
     "output_type": "execute_result"
    }
   ],
   "source": [
    "path = 'lung_colon_image_set/lung_image_sets'\n",
    "classes = os.listdir(path)\n",
    "classes"
   ]
  },
  {
   "cell_type": "code",
   "execution_count": 27,
   "id": "e06a1dad",
   "metadata": {},
   "outputs": [
    {
     "name": "stdout",
     "output_type": "stream",
     "text": [
      "Path exists!\n"
     ]
    }
   ],
   "source": [
    "if os.path.exists(path):\n",
    "    print(\"Path exists!\")\n",
    "else:\n",
    "    print(\"Path does not exist.\")\n"
   ]
  },
  {
   "cell_type": "code",
   "execution_count": 28,
   "id": "ba918c0c",
   "metadata": {},
   "outputs": [],
   "source": [
    "IMG_SIZE = 256\n",
    "SPLIT = 0.2\n",
    "EPOCHS = 10\n",
    "BATCH_SIZE = 64"
   ]
  },
  {
   "cell_type": "code",
   "execution_count": 29,
   "id": "24723780",
   "metadata": {},
   "outputs": [
    {
     "name": "stdout",
     "output_type": "stream",
     "text": [
      "[[[[240 195 211]\n",
      "   [241 197 210]\n",
      "   [242 198 211]\n",
      "   ...\n",
      "   [221  85 151]\n",
      "   [223  84 151]\n",
      "   [226  87 155]]\n",
      "\n",
      "  [[241 196 212]\n",
      "   [242 198 211]\n",
      "   [243 199 212]\n",
      "   ...\n",
      "   [218  79 147]\n",
      "   [223  83 154]\n",
      "   [225  83 154]]\n",
      "\n",
      "  [[242 197 213]\n",
      "   [243 199 212]\n",
      "   [244 200 213]\n",
      "   ...\n",
      "   [221  84 152]\n",
      "   [219  81 152]\n",
      "   [225  85 156]]\n",
      "\n",
      "  ...\n",
      "\n",
      "  [[221 113 186]\n",
      "   [218 107 187]\n",
      "   [210  99 179]\n",
      "   ...\n",
      "   [212 118 149]\n",
      "   [221 126 160]\n",
      "   [222 128 162]]\n",
      "\n",
      "  [[218 106 178]\n",
      "   [215 101 178]\n",
      "   [206  93 173]\n",
      "   ...\n",
      "   [221 127 158]\n",
      "   [226 132 166]\n",
      "   [234 140 174]]\n",
      "\n",
      "  [[215 100 167]\n",
      "   [212  97 170]\n",
      "   [202  91 165]\n",
      "   ...\n",
      "   [217 127 157]\n",
      "   [217 128 161]\n",
      "   [233 144 177]]]\n",
      "\n",
      "\n",
      " [[[219  89 114]\n",
      "   [219  88 125]\n",
      "   [220  92 139]\n",
      "   ...\n",
      "   [246 199 207]\n",
      "   [246 200 206]\n",
      "   [246 201 204]]\n",
      "\n",
      "  [[213  82 115]\n",
      "   [215  85 126]\n",
      "   [210  85 134]\n",
      "   ...\n",
      "   [246 202 209]\n",
      "   [246 202 208]\n",
      "   [246 203 206]]\n",
      "\n",
      "  [[218  91 130]\n",
      "   [219  96 140]\n",
      "   [210  95 139]\n",
      "   ...\n",
      "   [248 204 211]\n",
      "   [248 204 210]\n",
      "   [248 205 208]]\n",
      "\n",
      "  ...\n",
      "\n",
      "  [[215  94 132]\n",
      "   [219  97 135]\n",
      "   [219  97 135]\n",
      "   ...\n",
      "   [240 188 198]\n",
      "   [244 192 202]\n",
      "   [245 193 203]]\n",
      "\n",
      "  [[210  90 125]\n",
      "   [220  98 134]\n",
      "   [216  92 128]\n",
      "   ...\n",
      "   [239 185 198]\n",
      "   [239 185 198]\n",
      "   [240 186 199]]\n",
      "\n",
      "  [[211  90 124]\n",
      "   [214  91 125]\n",
      "   [208  85 119]\n",
      "   ...\n",
      "   [234 179 194]\n",
      "   [233 178 193]\n",
      "   [240 185 200]]]\n",
      "\n",
      "\n",
      " [[[219 155 184]\n",
      "   [233 151 186]\n",
      "   [241 145 186]\n",
      "   ...\n",
      "   [214 144 175]\n",
      "   [226 155 188]\n",
      "   [235 162 200]]\n",
      "\n",
      "  [[224 157 184]\n",
      "   [231 149 184]\n",
      "   [233 142 181]\n",
      "   ...\n",
      "   [216 142 172]\n",
      "   [220 144 178]\n",
      "   [237 160 197]]\n",
      "\n",
      "  [[234 166 191]\n",
      "   [235 156 189]\n",
      "   [233 146 182]\n",
      "   ...\n",
      "   [226 150 181]\n",
      "   [228 152 184]\n",
      "   [232 155 189]]\n",
      "\n",
      "  ...\n",
      "\n",
      "  [[231 175 188]\n",
      "   [232 175 184]\n",
      "   [233 174 182]\n",
      "   ...\n",
      "   [242 179 199]\n",
      "   [240 182 200]\n",
      "   [237 182 197]]\n",
      "\n",
      "  [[239 173 192]\n",
      "   [239 174 189]\n",
      "   [241 175 186]\n",
      "   ...\n",
      "   [241 176 198]\n",
      "   [240 178 200]\n",
      "   [237 178 198]]\n",
      "\n",
      "  [[249 173 197]\n",
      "   [243 168 189]\n",
      "   [239 166 182]\n",
      "   ...\n",
      "   [234 168 193]\n",
      "   [235 170 195]\n",
      "   [232 170 194]]]\n",
      "\n",
      "\n",
      " ...\n",
      "\n",
      "\n",
      " [[[213  90 130]\n",
      "   [195  83 130]\n",
      "   [221 121 169]\n",
      "   ...\n",
      "   [217 101 148]\n",
      "   [220 103 152]\n",
      "   [223  99 153]]\n",
      "\n",
      "  [[226 104 145]\n",
      "   [207  95 142]\n",
      "   [208 106 154]\n",
      "   ...\n",
      "   [215  95 143]\n",
      "   [209  91 140]\n",
      "   [211  89 143]]\n",
      "\n",
      "  [[220 102 145]\n",
      "   [221 107 154]\n",
      "   [215 109 156]\n",
      "   ...\n",
      "   [208  83 132]\n",
      "   [221 100 150]\n",
      "   [214  92 146]]\n",
      "\n",
      "  ...\n",
      "\n",
      "  [[204  83 144]\n",
      "   [207  86 147]\n",
      "   [203  81 141]\n",
      "   ...\n",
      "   [198  58 121]\n",
      "   [207  85 145]\n",
      "   [217 104 161]]\n",
      "\n",
      "  [[197  77 136]\n",
      "   [209  86 148]\n",
      "   [219  94 156]\n",
      "   ...\n",
      "   [191  58 120]\n",
      "   [209  89 147]\n",
      "   [219 108 162]]\n",
      "\n",
      "  [[204  84 143]\n",
      "   [214  89 151]\n",
      "   [210  82 147]\n",
      "   ...\n",
      "   [211  84 145]\n",
      "   [215 100 157]\n",
      "   [232 122 174]]]\n",
      "\n",
      "\n",
      " [[[221 108 175]\n",
      "   [221 107 167]\n",
      "   [217 106 158]\n",
      "   ...\n",
      "   [202  88 151]\n",
      "   [194  79 142]\n",
      "   [201  77 143]]\n",
      "\n",
      "  [[228 116 180]\n",
      "   [221 114 171]\n",
      "   [221 116 165]\n",
      "   ...\n",
      "   [204  87 150]\n",
      "   [203  83 147]\n",
      "   [202  76 142]]\n",
      "\n",
      "  [[231 126 183]\n",
      "   [233 132 184]\n",
      "   [240 145 190]\n",
      "   ...\n",
      "   [208  85 149]\n",
      "   [211  85 150]\n",
      "   [205  74 141]]\n",
      "\n",
      "  ...\n",
      "\n",
      "  [[230 121 169]\n",
      "   [243 137 184]\n",
      "   [230 125 174]\n",
      "   ...\n",
      "   [210  79 129]\n",
      "   [212  81 138]\n",
      "   [212  82 143]]\n",
      "\n",
      "  [[236 118 169]\n",
      "   [238 120 171]\n",
      "   [233 115 166]\n",
      "   ...\n",
      "   [216  93 143]\n",
      "   [210  85 141]\n",
      "   [209  79 140]]\n",
      "\n",
      "  [[236 112 166]\n",
      "   [223  97 149]\n",
      "   [225  99 151]\n",
      "   ...\n",
      "   [222 104 155]\n",
      "   [206  86 140]\n",
      "   [199  72 128]]]\n",
      "\n",
      "\n",
      " [[[220 117 155]\n",
      "   [216 118 154]\n",
      "   [221 127 162]\n",
      "   ...\n",
      "   [221  97 157]\n",
      "   [213  95 154]\n",
      "   [211 100 154]]\n",
      "\n",
      "  [[219 122 162]\n",
      "   [221 125 162]\n",
      "   [222 128 163]\n",
      "   ...\n",
      "   [219  98 156]\n",
      "   [210  95 152]\n",
      "   [210  99 153]]\n",
      "\n",
      "  [[220 122 164]\n",
      "   [221 125 165]\n",
      "   [220 125 162]\n",
      "   ...\n",
      "   [217  98 153]\n",
      "   [213  99 153]\n",
      "   [214 106 158]]\n",
      "\n",
      "  ...\n",
      "\n",
      "  [[197  85 119]\n",
      "   [192  72 113]\n",
      "   [191  66 112]\n",
      "   ...\n",
      "   [193  72 106]\n",
      "   [199  76 110]\n",
      "   [198  75 109]]\n",
      "\n",
      "  [[200  88 122]\n",
      "   [193  69 111]\n",
      "   [198  63 111]\n",
      "   ...\n",
      "   [197  76 110]\n",
      "   [197  76 110]\n",
      "   [205  82 116]]\n",
      "\n",
      "  [[204  91 125]\n",
      "   [195  67 109]\n",
      "   [202  61 110]\n",
      "   ...\n",
      "   [200  80 114]\n",
      "   [207  87 121]\n",
      "   [214  93 127]]]]\n"
     ]
    }
   ],
   "source": [
    "\n",
    "X = []\n",
    "Y = []\n",
    " \n",
    "for i, cat in enumerate(classes):\n",
    "    images = glob(f'{path}/{cat}/*.jpeg')\n",
    " \n",
    "    for image in images:\n",
    "        img = cv2.imread(image)\n",
    "\n",
    "        X.append(cv2.resize(img, (IMG_SIZE, IMG_SIZE)))\n",
    "        Y.append(i)\n",
    "\n",
    "X = np.asarray(X)\n",
    "one_hot_encoded_Y = pd.get_dummies(Y).values\n",
    "\n",
    "print(X)"
   ]
  },
  {
   "cell_type": "code",
   "execution_count": 30,
   "id": "28e13a51",
   "metadata": {},
   "outputs": [
    {
     "name": "stdout",
     "output_type": "stream",
     "text": [
      "(12000, 256, 256, 3) (3000, 256, 256, 3)\n"
     ]
    }
   ],
   "source": [
    "X_train, X_val, Y_train, Y_val = train_test_split(X, one_hot_encoded_Y,\n",
    "                                                  test_size = SPLIT,\n",
    "                                                  random_state = 2022)\n",
    "print(X_train.shape, X_val.shape)"
   ]
  },
  {
   "cell_type": "code",
   "execution_count": 31,
   "id": "bb9cc5b4",
   "metadata": {},
   "outputs": [],
   "source": [
    "\n",
    "model = keras.models.Sequential([\n",
    "    layers.Conv2D(filters=32,\n",
    "                  kernel_size=(5, 5),\n",
    "                  activation='relu',\n",
    "                  input_shape=(IMG_SIZE,\n",
    "                               IMG_SIZE,\n",
    "                               3),\n",
    "                  padding='same'),\n",
    "    layers.MaxPooling2D(2, 2),\n",
    " \n",
    "    layers.Conv2D(filters=64,\n",
    "                  kernel_size=(3, 3),\n",
    "                  activation='relu',\n",
    "                  padding='same'),\n",
    "    layers.MaxPooling2D(2, 2),\n",
    " \n",
    "    layers.Conv2D(filters=128,\n",
    "                  kernel_size=(3, 3),\n",
    "                  activation='relu',\n",
    "                  padding='same'),\n",
    "    layers.MaxPooling2D(2, 2),\n",
    " \n",
    "    layers.Flatten(),\n",
    "    layers.Dense(256, activation='relu'),\n",
    "    layers.BatchNormalization(),\n",
    "    layers.Dense(128, activation='relu'),\n",
    "    layers.Dropout(0.3),\n",
    "    layers.BatchNormalization(),\n",
    "    layers.Dense(3, activation='softmax')\n",
    "])\n"
   ]
  },
  {
   "cell_type": "code",
   "execution_count": 32,
   "id": "b4eb8eaf",
   "metadata": {},
   "outputs": [
    {
     "data": {
      "text/html": [
       "<pre style=\"white-space:pre;overflow-x:auto;line-height:normal;font-family:Menlo,'DejaVu Sans Mono',consolas,'Courier New',monospace\"><span style=\"font-weight: bold\">Model: \"sequential_1\"</span>\n",
       "</pre>\n"
      ],
      "text/plain": [
       "\u001b[1mModel: \"sequential_1\"\u001b[0m\n"
      ]
     },
     "metadata": {},
     "output_type": "display_data"
    },
    {
     "data": {
      "text/html": [
       "<pre style=\"white-space:pre;overflow-x:auto;line-height:normal;font-family:Menlo,'DejaVu Sans Mono',consolas,'Courier New',monospace\">┏━━━━━━━━━━━━━━━━━━━━━━━━━━━━━━━━━━━━━━┳━━━━━━━━━━━━━━━━━━━━━━━━━━━━━┳━━━━━━━━━━━━━━━━━┓\n",
       "┃<span style=\"font-weight: bold\"> Layer (type)                         </span>┃<span style=\"font-weight: bold\"> Output Shape                </span>┃<span style=\"font-weight: bold\">         Param # </span>┃\n",
       "┡━━━━━━━━━━━━━━━━━━━━━━━━━━━━━━━━━━━━━━╇━━━━━━━━━━━━━━━━━━━━━━━━━━━━━╇━━━━━━━━━━━━━━━━━┩\n",
       "│ conv2d_3 (<span style=\"color: #0087ff; text-decoration-color: #0087ff\">Conv2D</span>)                    │ (<span style=\"color: #00d7ff; text-decoration-color: #00d7ff\">None</span>, <span style=\"color: #00af00; text-decoration-color: #00af00\">256</span>, <span style=\"color: #00af00; text-decoration-color: #00af00\">256</span>, <span style=\"color: #00af00; text-decoration-color: #00af00\">32</span>)        │           <span style=\"color: #00af00; text-decoration-color: #00af00\">2,432</span> │\n",
       "├──────────────────────────────────────┼─────────────────────────────┼─────────────────┤\n",
       "│ max_pooling2d_3 (<span style=\"color: #0087ff; text-decoration-color: #0087ff\">MaxPooling2D</span>)       │ (<span style=\"color: #00d7ff; text-decoration-color: #00d7ff\">None</span>, <span style=\"color: #00af00; text-decoration-color: #00af00\">128</span>, <span style=\"color: #00af00; text-decoration-color: #00af00\">128</span>, <span style=\"color: #00af00; text-decoration-color: #00af00\">32</span>)        │               <span style=\"color: #00af00; text-decoration-color: #00af00\">0</span> │\n",
       "├──────────────────────────────────────┼─────────────────────────────┼─────────────────┤\n",
       "│ conv2d_4 (<span style=\"color: #0087ff; text-decoration-color: #0087ff\">Conv2D</span>)                    │ (<span style=\"color: #00d7ff; text-decoration-color: #00d7ff\">None</span>, <span style=\"color: #00af00; text-decoration-color: #00af00\">128</span>, <span style=\"color: #00af00; text-decoration-color: #00af00\">128</span>, <span style=\"color: #00af00; text-decoration-color: #00af00\">64</span>)        │          <span style=\"color: #00af00; text-decoration-color: #00af00\">18,496</span> │\n",
       "├──────────────────────────────────────┼─────────────────────────────┼─────────────────┤\n",
       "│ max_pooling2d_4 (<span style=\"color: #0087ff; text-decoration-color: #0087ff\">MaxPooling2D</span>)       │ (<span style=\"color: #00d7ff; text-decoration-color: #00d7ff\">None</span>, <span style=\"color: #00af00; text-decoration-color: #00af00\">64</span>, <span style=\"color: #00af00; text-decoration-color: #00af00\">64</span>, <span style=\"color: #00af00; text-decoration-color: #00af00\">64</span>)          │               <span style=\"color: #00af00; text-decoration-color: #00af00\">0</span> │\n",
       "├──────────────────────────────────────┼─────────────────────────────┼─────────────────┤\n",
       "│ conv2d_5 (<span style=\"color: #0087ff; text-decoration-color: #0087ff\">Conv2D</span>)                    │ (<span style=\"color: #00d7ff; text-decoration-color: #00d7ff\">None</span>, <span style=\"color: #00af00; text-decoration-color: #00af00\">64</span>, <span style=\"color: #00af00; text-decoration-color: #00af00\">64</span>, <span style=\"color: #00af00; text-decoration-color: #00af00\">128</span>)         │          <span style=\"color: #00af00; text-decoration-color: #00af00\">73,856</span> │\n",
       "├──────────────────────────────────────┼─────────────────────────────┼─────────────────┤\n",
       "│ max_pooling2d_5 (<span style=\"color: #0087ff; text-decoration-color: #0087ff\">MaxPooling2D</span>)       │ (<span style=\"color: #00d7ff; text-decoration-color: #00d7ff\">None</span>, <span style=\"color: #00af00; text-decoration-color: #00af00\">32</span>, <span style=\"color: #00af00; text-decoration-color: #00af00\">32</span>, <span style=\"color: #00af00; text-decoration-color: #00af00\">128</span>)         │               <span style=\"color: #00af00; text-decoration-color: #00af00\">0</span> │\n",
       "├──────────────────────────────────────┼─────────────────────────────┼─────────────────┤\n",
       "│ flatten_1 (<span style=\"color: #0087ff; text-decoration-color: #0087ff\">Flatten</span>)                  │ (<span style=\"color: #00d7ff; text-decoration-color: #00d7ff\">None</span>, <span style=\"color: #00af00; text-decoration-color: #00af00\">131072</span>)              │               <span style=\"color: #00af00; text-decoration-color: #00af00\">0</span> │\n",
       "├──────────────────────────────────────┼─────────────────────────────┼─────────────────┤\n",
       "│ dense_3 (<span style=\"color: #0087ff; text-decoration-color: #0087ff\">Dense</span>)                      │ (<span style=\"color: #00d7ff; text-decoration-color: #00d7ff\">None</span>, <span style=\"color: #00af00; text-decoration-color: #00af00\">256</span>)                 │      <span style=\"color: #00af00; text-decoration-color: #00af00\">33,554,688</span> │\n",
       "├──────────────────────────────────────┼─────────────────────────────┼─────────────────┤\n",
       "│ batch_normalization_2                │ (<span style=\"color: #00d7ff; text-decoration-color: #00d7ff\">None</span>, <span style=\"color: #00af00; text-decoration-color: #00af00\">256</span>)                 │           <span style=\"color: #00af00; text-decoration-color: #00af00\">1,024</span> │\n",
       "│ (<span style=\"color: #0087ff; text-decoration-color: #0087ff\">BatchNormalization</span>)                 │                             │                 │\n",
       "├──────────────────────────────────────┼─────────────────────────────┼─────────────────┤\n",
       "│ dense_4 (<span style=\"color: #0087ff; text-decoration-color: #0087ff\">Dense</span>)                      │ (<span style=\"color: #00d7ff; text-decoration-color: #00d7ff\">None</span>, <span style=\"color: #00af00; text-decoration-color: #00af00\">128</span>)                 │          <span style=\"color: #00af00; text-decoration-color: #00af00\">32,896</span> │\n",
       "├──────────────────────────────────────┼─────────────────────────────┼─────────────────┤\n",
       "│ dropout_1 (<span style=\"color: #0087ff; text-decoration-color: #0087ff\">Dropout</span>)                  │ (<span style=\"color: #00d7ff; text-decoration-color: #00d7ff\">None</span>, <span style=\"color: #00af00; text-decoration-color: #00af00\">128</span>)                 │               <span style=\"color: #00af00; text-decoration-color: #00af00\">0</span> │\n",
       "├──────────────────────────────────────┼─────────────────────────────┼─────────────────┤\n",
       "│ batch_normalization_3                │ (<span style=\"color: #00d7ff; text-decoration-color: #00d7ff\">None</span>, <span style=\"color: #00af00; text-decoration-color: #00af00\">128</span>)                 │             <span style=\"color: #00af00; text-decoration-color: #00af00\">512</span> │\n",
       "│ (<span style=\"color: #0087ff; text-decoration-color: #0087ff\">BatchNormalization</span>)                 │                             │                 │\n",
       "├──────────────────────────────────────┼─────────────────────────────┼─────────────────┤\n",
       "│ dense_5 (<span style=\"color: #0087ff; text-decoration-color: #0087ff\">Dense</span>)                      │ (<span style=\"color: #00d7ff; text-decoration-color: #00d7ff\">None</span>, <span style=\"color: #00af00; text-decoration-color: #00af00\">3</span>)                   │             <span style=\"color: #00af00; text-decoration-color: #00af00\">387</span> │\n",
       "└──────────────────────────────────────┴─────────────────────────────┴─────────────────┘\n",
       "</pre>\n"
      ],
      "text/plain": [
       "┏━━━━━━━━━━━━━━━━━━━━━━━━━━━━━━━━━━━━━━┳━━━━━━━━━━━━━━━━━━━━━━━━━━━━━┳━━━━━━━━━━━━━━━━━┓\n",
       "┃\u001b[1m \u001b[0m\u001b[1mLayer (type)                        \u001b[0m\u001b[1m \u001b[0m┃\u001b[1m \u001b[0m\u001b[1mOutput Shape               \u001b[0m\u001b[1m \u001b[0m┃\u001b[1m \u001b[0m\u001b[1m        Param #\u001b[0m\u001b[1m \u001b[0m┃\n",
       "┡━━━━━━━━━━━━━━━━━━━━━━━━━━━━━━━━━━━━━━╇━━━━━━━━━━━━━━━━━━━━━━━━━━━━━╇━━━━━━━━━━━━━━━━━┩\n",
       "│ conv2d_3 (\u001b[38;5;33mConv2D\u001b[0m)                    │ (\u001b[38;5;45mNone\u001b[0m, \u001b[38;5;34m256\u001b[0m, \u001b[38;5;34m256\u001b[0m, \u001b[38;5;34m32\u001b[0m)        │           \u001b[38;5;34m2,432\u001b[0m │\n",
       "├──────────────────────────────────────┼─────────────────────────────┼─────────────────┤\n",
       "│ max_pooling2d_3 (\u001b[38;5;33mMaxPooling2D\u001b[0m)       │ (\u001b[38;5;45mNone\u001b[0m, \u001b[38;5;34m128\u001b[0m, \u001b[38;5;34m128\u001b[0m, \u001b[38;5;34m32\u001b[0m)        │               \u001b[38;5;34m0\u001b[0m │\n",
       "├──────────────────────────────────────┼─────────────────────────────┼─────────────────┤\n",
       "│ conv2d_4 (\u001b[38;5;33mConv2D\u001b[0m)                    │ (\u001b[38;5;45mNone\u001b[0m, \u001b[38;5;34m128\u001b[0m, \u001b[38;5;34m128\u001b[0m, \u001b[38;5;34m64\u001b[0m)        │          \u001b[38;5;34m18,496\u001b[0m │\n",
       "├──────────────────────────────────────┼─────────────────────────────┼─────────────────┤\n",
       "│ max_pooling2d_4 (\u001b[38;5;33mMaxPooling2D\u001b[0m)       │ (\u001b[38;5;45mNone\u001b[0m, \u001b[38;5;34m64\u001b[0m, \u001b[38;5;34m64\u001b[0m, \u001b[38;5;34m64\u001b[0m)          │               \u001b[38;5;34m0\u001b[0m │\n",
       "├──────────────────────────────────────┼─────────────────────────────┼─────────────────┤\n",
       "│ conv2d_5 (\u001b[38;5;33mConv2D\u001b[0m)                    │ (\u001b[38;5;45mNone\u001b[0m, \u001b[38;5;34m64\u001b[0m, \u001b[38;5;34m64\u001b[0m, \u001b[38;5;34m128\u001b[0m)         │          \u001b[38;5;34m73,856\u001b[0m │\n",
       "├──────────────────────────────────────┼─────────────────────────────┼─────────────────┤\n",
       "│ max_pooling2d_5 (\u001b[38;5;33mMaxPooling2D\u001b[0m)       │ (\u001b[38;5;45mNone\u001b[0m, \u001b[38;5;34m32\u001b[0m, \u001b[38;5;34m32\u001b[0m, \u001b[38;5;34m128\u001b[0m)         │               \u001b[38;5;34m0\u001b[0m │\n",
       "├──────────────────────────────────────┼─────────────────────────────┼─────────────────┤\n",
       "│ flatten_1 (\u001b[38;5;33mFlatten\u001b[0m)                  │ (\u001b[38;5;45mNone\u001b[0m, \u001b[38;5;34m131072\u001b[0m)              │               \u001b[38;5;34m0\u001b[0m │\n",
       "├──────────────────────────────────────┼─────────────────────────────┼─────────────────┤\n",
       "│ dense_3 (\u001b[38;5;33mDense\u001b[0m)                      │ (\u001b[38;5;45mNone\u001b[0m, \u001b[38;5;34m256\u001b[0m)                 │      \u001b[38;5;34m33,554,688\u001b[0m │\n",
       "├──────────────────────────────────────┼─────────────────────────────┼─────────────────┤\n",
       "│ batch_normalization_2                │ (\u001b[38;5;45mNone\u001b[0m, \u001b[38;5;34m256\u001b[0m)                 │           \u001b[38;5;34m1,024\u001b[0m │\n",
       "│ (\u001b[38;5;33mBatchNormalization\u001b[0m)                 │                             │                 │\n",
       "├──────────────────────────────────────┼─────────────────────────────┼─────────────────┤\n",
       "│ dense_4 (\u001b[38;5;33mDense\u001b[0m)                      │ (\u001b[38;5;45mNone\u001b[0m, \u001b[38;5;34m128\u001b[0m)                 │          \u001b[38;5;34m32,896\u001b[0m │\n",
       "├──────────────────────────────────────┼─────────────────────────────┼─────────────────┤\n",
       "│ dropout_1 (\u001b[38;5;33mDropout\u001b[0m)                  │ (\u001b[38;5;45mNone\u001b[0m, \u001b[38;5;34m128\u001b[0m)                 │               \u001b[38;5;34m0\u001b[0m │\n",
       "├──────────────────────────────────────┼─────────────────────────────┼─────────────────┤\n",
       "│ batch_normalization_3                │ (\u001b[38;5;45mNone\u001b[0m, \u001b[38;5;34m128\u001b[0m)                 │             \u001b[38;5;34m512\u001b[0m │\n",
       "│ (\u001b[38;5;33mBatchNormalization\u001b[0m)                 │                             │                 │\n",
       "├──────────────────────────────────────┼─────────────────────────────┼─────────────────┤\n",
       "│ dense_5 (\u001b[38;5;33mDense\u001b[0m)                      │ (\u001b[38;5;45mNone\u001b[0m, \u001b[38;5;34m3\u001b[0m)                   │             \u001b[38;5;34m387\u001b[0m │\n",
       "└──────────────────────────────────────┴─────────────────────────────┴─────────────────┘\n"
      ]
     },
     "metadata": {},
     "output_type": "display_data"
    },
    {
     "data": {
      "text/html": [
       "<pre style=\"white-space:pre;overflow-x:auto;line-height:normal;font-family:Menlo,'DejaVu Sans Mono',consolas,'Courier New',monospace\"><span style=\"font-weight: bold\"> Total params: </span><span style=\"color: #00af00; text-decoration-color: #00af00\">33,684,291</span> (128.50 MB)\n",
       "</pre>\n"
      ],
      "text/plain": [
       "\u001b[1m Total params: \u001b[0m\u001b[38;5;34m33,684,291\u001b[0m (128.50 MB)\n"
      ]
     },
     "metadata": {},
     "output_type": "display_data"
    },
    {
     "data": {
      "text/html": [
       "<pre style=\"white-space:pre;overflow-x:auto;line-height:normal;font-family:Menlo,'DejaVu Sans Mono',consolas,'Courier New',monospace\"><span style=\"font-weight: bold\"> Trainable params: </span><span style=\"color: #00af00; text-decoration-color: #00af00\">33,683,523</span> (128.49 MB)\n",
       "</pre>\n"
      ],
      "text/plain": [
       "\u001b[1m Trainable params: \u001b[0m\u001b[38;5;34m33,683,523\u001b[0m (128.49 MB)\n"
      ]
     },
     "metadata": {},
     "output_type": "display_data"
    },
    {
     "data": {
      "text/html": [
       "<pre style=\"white-space:pre;overflow-x:auto;line-height:normal;font-family:Menlo,'DejaVu Sans Mono',consolas,'Courier New',monospace\"><span style=\"font-weight: bold\"> Non-trainable params: </span><span style=\"color: #00af00; text-decoration-color: #00af00\">768</span> (3.00 KB)\n",
       "</pre>\n"
      ],
      "text/plain": [
       "\u001b[1m Non-trainable params: \u001b[0m\u001b[38;5;34m768\u001b[0m (3.00 KB)\n"
      ]
     },
     "metadata": {},
     "output_type": "display_data"
    }
   ],
   "source": [
    "model.summary()\n"
   ]
  },
  {
   "cell_type": "code",
   "execution_count": 33,
   "id": "f2da5c53",
   "metadata": {},
   "outputs": [],
   "source": [
    "\n",
    "model.compile(\n",
    "    optimizer = 'adam',\n",
    "    loss = 'categorical_crossentropy',\n",
    "    metrics = ['accuracy']\n",
    ")\n"
   ]
  },
  {
   "cell_type": "code",
   "execution_count": 34,
   "id": "14dbbdfd",
   "metadata": {},
   "outputs": [],
   "source": [
    "\n",
    "from keras.callbacks import EarlyStopping, ReduceLROnPlateau\n",
    " \n",
    "class myCallback(tf.keras.callbacks.Callback):\n",
    "    def on_epoch_end(self, epoch, logs={}):\n",
    "        if logs.get('val_accuracy') > 0.90:\n",
    "            print('\\n Validation accuracy has reached upto \\\n",
    "                      90% so, stopping further training.')\n",
    "            self.model.stop_training = True\n",
    " \n",
    " \n",
    "es = EarlyStopping(patience=3,\n",
    "                   monitor='val_accuracy',\n",
    "                   restore_best_weights=True)\n",
    " \n",
    "lr = ReduceLROnPlateau(monitor='val_loss',\n",
    "                       patience=2,\n",
    "                       factor=0.5,\n",
    "                       verbose=1)\n"
   ]
  },
  {
   "cell_type": "code",
   "execution_count": 35,
   "id": "e287f7fb",
   "metadata": {},
   "outputs": [
    {
     "name": "stdout",
     "output_type": "stream",
     "text": [
      "Epoch 1/10\n",
      "\u001b[1m188/188\u001b[0m \u001b[32m━━━━━━━━━━━━━━━━━━━━\u001b[0m\u001b[37m\u001b[0m \u001b[1m341s\u001b[0m 2s/step - accuracy: 0.8200 - loss: 0.4321 - val_accuracy: 0.5207 - val_loss: 2.2708 - learning_rate: 0.0010\n",
      "Epoch 2/10\n",
      "\u001b[1m188/188\u001b[0m \u001b[32m━━━━━━━━━━━━━━━━━━━━\u001b[0m\u001b[37m\u001b[0m \u001b[1m345s\u001b[0m 2s/step - accuracy: 0.9149 - loss: 0.2194 - val_accuracy: 0.3437 - val_loss: 7.0793 - learning_rate: 0.0010\n",
      "Epoch 3/10\n",
      "\u001b[1m188/188\u001b[0m \u001b[32m━━━━━━━━━━━━━━━━━━━━\u001b[0m\u001b[37m\u001b[0m \u001b[1m346s\u001b[0m 2s/step - accuracy: 0.9369 - loss: 0.1692 - val_accuracy: 0.4777 - val_loss: 1.3830 - learning_rate: 0.0010\n",
      "Epoch 4/10\n",
      "\u001b[1m188/188\u001b[0m \u001b[32m━━━━━━━━━━━━━━━━━━━━\u001b[0m\u001b[37m\u001b[0m \u001b[1m357s\u001b[0m 2s/step - accuracy: 0.9456 - loss: 0.1423 - val_accuracy: 0.6680 - val_loss: 4.3573 - learning_rate: 0.0010\n",
      "Epoch 5/10\n",
      "\u001b[1m188/188\u001b[0m \u001b[32m━━━━━━━━━━━━━━━━━━━━\u001b[0m\u001b[37m\u001b[0m \u001b[1m335s\u001b[0m 2s/step - accuracy: 0.9515 - loss: 0.1262 - val_accuracy: 0.8910 - val_loss: 0.3283 - learning_rate: 0.0010\n",
      "Epoch 6/10\n",
      "\u001b[1m188/188\u001b[0m \u001b[32m━━━━━━━━━━━━━━━━━━━━\u001b[0m\u001b[37m\u001b[0m \u001b[1m326s\u001b[0m 2s/step - accuracy: 0.9629 - loss: 0.0959 - val_accuracy: 0.6560 - val_loss: 3.9278 - learning_rate: 0.0010\n",
      "Epoch 7/10\n",
      "\u001b[1m188/188\u001b[0m \u001b[32m━━━━━━━━━━━━━━━━━━━━\u001b[0m\u001b[37m\u001b[0m \u001b[1m0s\u001b[0m 2s/step - accuracy: 0.9670 - loss: 0.0851\n",
      "Epoch 7: ReduceLROnPlateau reducing learning rate to 0.0005000000237487257.\n",
      "\u001b[1m188/188\u001b[0m \u001b[32m━━━━━━━━━━━━━━━━━━━━\u001b[0m\u001b[37m\u001b[0m \u001b[1m343s\u001b[0m 2s/step - accuracy: 0.9670 - loss: 0.0851 - val_accuracy: 0.7210 - val_loss: 2.6853 - learning_rate: 0.0010\n",
      "Epoch 8/10\n",
      "\u001b[1m188/188\u001b[0m \u001b[32m━━━━━━━━━━━━━━━━━━━━\u001b[0m\u001b[37m\u001b[0m \u001b[1m2249s\u001b[0m 12s/step - accuracy: 0.9848 - loss: 0.0463 - val_accuracy: 0.8113 - val_loss: 0.8538 - learning_rate: 5.0000e-04\n"
     ]
    }
   ],
   "source": [
    "\n",
    "history = model.fit(X_train, Y_train,\n",
    "                    validation_data = (X_val, Y_val),\n",
    "                    batch_size = BATCH_SIZE,\n",
    "                    epochs = EPOCHS,\n",
    "                    verbose = 1,\n",
    "                    callbacks = [es, lr, myCallback()])\n"
   ]
  },
  {
   "cell_type": "code",
   "execution_count": 36,
   "id": "6d3ac38d",
   "metadata": {},
   "outputs": [
    {
     "data": {
      "image/png": "[encoded data removed]",
      "text/plain": [
       "<Figure size 640x480 with 1 Axes>"
      ]
     },
     "metadata": {},
     "output_type": "display_data"
    },
    {
     "data": {
      "image/png": "[encoded data removed]",
      "text/plain": [
       "<Figure size 640x480 with 1 Axes>"
      ]
     },
     "metadata": {},
     "output_type": "display_data"
    }
   ],
   "source": [
    "\n",
    "history_df = pd.DataFrame(history.history)\n",
    "history_df.loc[:,['loss','val_loss']].plot()\n",
    "history_df.loc[:,['accuracy','val_accuracy']].plot()\n",
    "plt.show()\n"
   ]
  },
  {
   "cell_type": "code",
   "execution_count": 37,
   "id": "4e1b747e",
   "metadata": {},
   "outputs": [
    {
     "name": "stdout",
     "output_type": "stream",
     "text": [
      "\u001b[1m94/94\u001b[0m \u001b[32m━━━━━━━━━━━━━━━━━━━━\u001b[0m\u001b[37m\u001b[0m \u001b[1m18s\u001b[0m 187ms/step\n"
     ]
    }
   ],
   "source": [
    "\n",
    "Y_pred = model.predict(X_val)\n",
    "Y_val = np.argmax(Y_val, axis=1)\n",
    "Y_pred = np.argmax(Y_pred, axis=1)\n"
   ]
  },
  {
   "cell_type": "code",
   "execution_count": 38,
   "id": "22dd92fc",
   "metadata": {},
   "outputs": [
    {
     "data": {
      "text/plain": [
       "array([[902,  17,  68],\n",
       "       [ 11, 966,   0],\n",
       "       [229,   2, 805]], dtype=int64)"
      ]
     },
     "execution_count": 38,
     "metadata": {},
     "output_type": "execute_result"
    }
   ],
   "source": [
    "metrics.confusion_matrix(Y_val, Y_pred)"
   ]
  },
  {
   "cell_type": "code",
   "execution_count": 39,
   "id": "9734cab9",
   "metadata": {},
   "outputs": [
    {
     "name": "stdout",
     "output_type": "stream",
     "text": [
      "              precision    recall  f1-score   support\n",
      "\n",
      "    lung_aca       0.79      0.91      0.85       987\n",
      "      lung_n       0.98      0.99      0.98       977\n",
      "    lung_scc       0.92      0.78      0.84      1036\n",
      "\n",
      "    accuracy                           0.89      3000\n",
      "   macro avg       0.90      0.89      0.89      3000\n",
      "weighted avg       0.90      0.89      0.89      3000\n",
      "\n"
     ]
    }
   ],
   "source": [
    "print(metrics.classification_report(Y_val, Y_pred,target_names=classes))"
   ]
  },
  {
   "cell_type": "code",
   "execution_count": null,
   "id": "ac31dce7",
   "metadata": {},
   "outputs": [],
   "source": []
  }
 ],
 "metadata": {
  "kernelspec": {
   "display_name": "Python 3 (ipykernel)",
   "language": "python",
   "name": "python3"
  },
  "language_info": {
   "codemirror_mode": {
    "name": "ipython",
    "version": 3
   },
   "file_extension": ".py",
   "mimetype": "text/x-python",
   "name": "python",
   "nbconvert_exporter": "python",
   "pygments_lexer": "ipython3",
   "version": "3.11.7"
  }
 },
 "nbformat": 4,
 "nbformat_minor": 5
}
